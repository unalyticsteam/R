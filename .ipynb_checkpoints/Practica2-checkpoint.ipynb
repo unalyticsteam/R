{
 "cells": [
  {
   "cell_type": "markdown",
   "metadata": {},
   "source": [
    "# Carga de librerias"
   ]
  },
  {
   "cell_type": "code",
   "execution_count": 1,
   "metadata": {
    "scrolled": false
   },
   "outputs": [
    {
     "name": "stderr",
     "output_type": "stream",
     "text": [
      "Registered S3 methods overwritten by 'ggplot2':\n",
      "  method         from \n",
      "  [.quosures     rlang\n",
      "  c.quosures     rlang\n",
      "  print.quosures rlang\n",
      "-- \u001b[1mAttaching packages\u001b[22m --------------------------------------- tidyverse 1.2.1 --\n",
      "\u001b[32mv\u001b[39m \u001b[34mggplot2\u001b[39m 3.1.1       \u001b[32mv\u001b[39m \u001b[34mpurrr  \u001b[39m 0.3.2  \n",
      "\u001b[32mv\u001b[39m \u001b[34mtibble \u001b[39m 2.1.1       \u001b[32mv\u001b[39m \u001b[34mdplyr  \u001b[39m 0.8.0.\u001b[31m1\u001b[39m\n",
      "\u001b[32mv\u001b[39m \u001b[34mtidyr  \u001b[39m 0.8.3       \u001b[32mv\u001b[39m \u001b[34mstringr\u001b[39m 1.4.0  \n",
      "\u001b[32mv\u001b[39m \u001b[34mreadr  \u001b[39m 1.3.1       \u001b[32mv\u001b[39m \u001b[34mforcats\u001b[39m 0.4.0  \n",
      "-- \u001b[1mConflicts\u001b[22m ------------------------------------------ tidyverse_conflicts() --\n",
      "\u001b[31mx\u001b[39m \u001b[34mdplyr\u001b[39m::\u001b[32mfilter()\u001b[39m masks \u001b[34mstats\u001b[39m::filter()\n",
      "\u001b[31mx\u001b[39m \u001b[34mdplyr\u001b[39m::\u001b[32mlag()\u001b[39m    masks \u001b[34mstats\u001b[39m::lag()\n",
      "\n",
      "Attaching package: 'lubridate'\n",
      "\n",
      "The following object is masked from 'package:base':\n",
      "\n",
      "    date\n",
      "\n",
      "Loading required package: colorspace\n",
      "Loading required package: grid\n",
      "Loading required package: data.table\n",
      "\n",
      "Attaching package: 'data.table'\n",
      "\n",
      "The following objects are masked from 'package:lubridate':\n",
      "\n",
      "    hour, isoweek, mday, minute, month, quarter, second, wday, week,\n",
      "    yday, year\n",
      "\n",
      "The following objects are masked from 'package:dplyr':\n",
      "\n",
      "    between, first, last\n",
      "\n",
      "The following object is masked from 'package:purrr':\n",
      "\n",
      "    transpose\n",
      "\n",
      "VIM is ready to use. \n",
      " Since version 4.0.0 the GUI is in its own package VIMGUI.\n",
      "\n",
      "          Please use the package to use the new (and old) GUI.\n",
      "\n",
      "Suggestions and bug-reports can be submitted at: https://github.com/alexkowa/VIM/issues\n",
      "\n",
      "Attaching package: 'VIM'\n",
      "\n",
      "The following object is masked from 'package:datasets':\n",
      "\n",
      "    sleep\n",
      "\n",
      "Loading required package: lattice\n",
      "Registered S3 methods overwritten by 'lme4':\n",
      "  method                          from\n",
      "  cooks.distance.influence.merMod car \n",
      "  influence.merMod                car \n",
      "  dfbeta.influence.merMod         car \n",
      "  dfbetas.influence.merMod        car \n",
      "\n",
      "Attaching package: 'mice'\n",
      "\n",
      "The following object is masked from 'package:tidyr':\n",
      "\n",
      "    complete\n",
      "\n",
      "The following objects are masked from 'package:base':\n",
      "\n",
      "    cbind, rbind\n",
      "\n"
     ]
    }
   ],
   "source": [
    "library(tidyverse)\n",
    "library(lubridate)\n",
    "library(stringr)\n",
    "library(VIM)\n",
    "library(mice)"
   ]
  },
  {
   "cell_type": "markdown",
   "metadata": {},
   "source": [
    "# Base de datos"
   ]
  },
  {
   "cell_type": "code",
   "execution_count": 2,
   "metadata": {
    "scrolled": true
   },
   "outputs": [
    {
     "data": {
      "text/html": [
       "<table>\n",
       "<caption>A data.frame: 6 × 35</caption>\n",
       "<thead>\n",
       "\t<tr><th scope=col>seguridad.fecha_hecho</th><th scope=col>seguridad.cantidad</th><th scope=col>seguridad.latitud</th><th scope=col>seguridad.longitud</th><th scope=col>seguridad.sexo</th><th scope=col>seguridad.edad</th><th scope=col>seguridad.estado_civil</th><th scope=col>seguridad.grupo_actor</th><th scope=col>seguridad.actividad_delictiva</th><th scope=col>seguridad.parentesco</th><th scope=col>...</th><th scope=col>seguridad.codigo_comuna</th><th scope=col>seguridad.lugar</th><th scope=col>seguridad.sede_receptora</th><th scope=col>seguridad.bien</th><th scope=col>seguridad.categoria_bien</th><th scope=col>seguridad.grupo_bien</th><th scope=col>seguridad.modelo</th><th scope=col>seguridad.color</th><th scope=col>seguridad.permiso</th><th scope=col>seguridad.unidad_medida</th></tr>\n",
       "\t<tr><th scope=col>&lt;fct&gt;</th><th scope=col>&lt;fct&gt;</th><th scope=col>&lt;fct&gt;</th><th scope=col>&lt;fct&gt;</th><th scope=col>&lt;fct&gt;</th><th scope=col>&lt;int&gt;</th><th scope=col>&lt;fct&gt;</th><th scope=col>&lt;lgl&gt;</th><th scope=col>&lt;lgl&gt;</th><th scope=col>&lt;lgl&gt;</th><th scope=col>...</th><th scope=col>&lt;fct&gt;</th><th scope=col>&lt;fct&gt;</th><th scope=col>&lt;fct&gt;</th><th scope=col>&lt;fct&gt;</th><th scope=col>&lt;fct&gt;</th><th scope=col>&lt;fct&gt;</th><th scope=col>&lt;int&gt;</th><th scope=col>&lt;fct&gt;</th><th scope=col>&lt;lgl&gt;</th><th scope=col>&lt;lgl&gt;</th></tr>\n",
       "</thead>\n",
       "<tbody>\n",
       "\t<tr><td>2003-01-01 17:00:00</td><td>1.0</td><td>6.26444900000</td><td>-75.56737700000</td><td>NA    </td><td>-1</td><td>NA        </td><td>NA</td><td>NA</td><td>NA</td><td>...</td><td>4 </td><td>Institución de educación superior</td><td>NA        </td><td>Sin dato maquinaria y equipo</td><td>Maquinaria y equipo                            </td><td>Mercancía</td><td>-1</td><td>NA</td><td>NA</td><td>NA</td></tr>\n",
       "\t<tr><td>2003-01-01 17:20:00</td><td>1.0</td><td>NA           </td><td>NA             </td><td>NA    </td><td>-1</td><td>NA        </td><td>NA</td><td>NA</td><td>NA</td><td>...</td><td>10</td><td>Oficina                          </td><td>NA        </td><td>Computador                  </td><td>Tecnología                                     </td><td>Mercancía</td><td>-1</td><td>NA</td><td>NA</td><td>NA</td></tr>\n",
       "\t<tr><td>2003-01-01 17:00:00</td><td>1.0</td><td>6.26444900000</td><td>-75.56737700000</td><td>NA    </td><td>-1</td><td>NA        </td><td>NA</td><td>NA</td><td>NA</td><td>...</td><td>4 </td><td>Institución de educación superior</td><td>Aranjuez  </td><td>Sin dato maquinaria y equipo</td><td>Maquinaria y equipo                            </td><td>Mercancía</td><td>-1</td><td>NA</td><td>NA</td><td>NA</td></tr>\n",
       "\t<tr><td>2003-01-01 17:20:00</td><td>1.0</td><td>NA           </td><td>NA             </td><td>NA    </td><td>-1</td><td>NA        </td><td>NA</td><td>NA</td><td>NA</td><td>...</td><td>10</td><td>Oficina                          </td><td>Candelaria</td><td>Computador                  </td><td>Tecnología                                     </td><td>Mercancía</td><td>-1</td><td>NA</td><td>NA</td><td>NA</td></tr>\n",
       "\t<tr><td>2003-01-02 08:00:00</td><td>1.0</td><td>6.24812500000</td><td>-75.56677200000</td><td>Hombre</td><td>22</td><td>Soltero(a)</td><td>NA</td><td>NA</td><td>NA</td><td>...</td><td>10</td><td>Droguería o farmacia             </td><td>Candelaria</td><td>Peso                        </td><td>Dinero, joyas, piedras preciosas y título valor</td><td>Mercancía</td><td>-1</td><td>NA</td><td>NA</td><td>NA</td></tr>\n",
       "\t<tr><td>2003-01-02 08:00:00</td><td>1.0</td><td>6.24812500000</td><td>-75.56677200000</td><td>Hombre</td><td>22</td><td>NA        </td><td>NA</td><td>NA</td><td>NA</td><td>...</td><td>10</td><td>Droguería o farmacia             </td><td>NA        </td><td>Peso                        </td><td>Dinero, joyas, piedras preciosas y título valor</td><td>Mercancía</td><td>-1</td><td>NA</td><td>NA</td><td>NA</td></tr>\n",
       "</tbody>\n",
       "</table>\n"
      ],
      "text/latex": [
       "A data.frame: 6 × 35\n",
       "\\begin{tabular}{r|lllllllllllllllllllllllllllllllllll}\n",
       " seguridad.fecha\\_hecho & seguridad.cantidad & seguridad.latitud & seguridad.longitud & seguridad.sexo & seguridad.edad & seguridad.estado\\_civil & seguridad.grupo\\_actor & seguridad.actividad\\_delictiva & seguridad.parentesco & seguridad.ocupacion & seguridad.discapacidad & seguridad.grupo\\_especial & seguridad.medio\\_transporte & seguridad.nivel\\_academico & seguridad.testigo & seguridad.conducta & seguridad.modalidad & seguridad.caracterizacion & seguridad.conducta\\_especial & seguridad.arma\\_medio & seguridad.articulo\\_penal & seguridad.categoria\\_penal & seguridad.nombre\\_barrio & seguridad.codigo\\_barrio & seguridad.codigo\\_comuna & seguridad.lugar & seguridad.sede\\_receptora & seguridad.bien & seguridad.categoria\\_bien & seguridad.grupo\\_bien & seguridad.modelo & seguridad.color & seguridad.permiso & seguridad.unidad\\_medida\\\\\n",
       " <fct> & <fct> & <fct> & <fct> & <fct> & <int> & <fct> & <lgl> & <lgl> & <lgl> & <lgl> & <lgl> & <lgl> & <fct> & <lgl> & <lgl> & <fct> & <fct> & <lgl> & <fct> & <fct> & <lgl> & <lgl> & <fct> & <fct> & <fct> & <fct> & <fct> & <fct> & <fct> & <fct> & <int> & <fct> & <lgl> & <lgl>\\\\\n",
       "\\hline\n",
       "\t 2003-01-01 17:00:00 & 1.0 & 6.26444900000 & -75.56737700000 & NA     & -1 & NA         & NA & NA & NA & NA & NA & NA & NA & NA & NA & Hurto a establecimiento comercial & NA                 & NA & NA & NA & NA & NA & Sevilla        & \\#0407 & 4  & Institución de educación superior & NA         & Sin dato maquinaria y equipo & Maquinaria y equipo                             & Mercancía & -1 & NA & NA & NA\\\\\n",
       "\t 2003-01-01 17:20:00 & 1.0 & NA            & NA              & NA     & -1 & NA         & NA & NA & NA & NA & NA & NA & NA & NA & NA & Hurto a establecimiento comercial & NA                 & NA & NA & NA & NA & NA & Jesús Nazareno & \\#1003 & 10 & Oficina                           & NA         & Computador                   & Tecnología                                      & Mercancía & -1 & NA & NA & NA\\\\\n",
       "\t 2003-01-01 17:00:00 & 1.0 & 6.26444900000 & -75.56737700000 & NA     & -1 & NA         & NA & NA & NA & NA & NA & NA & NA & NA & NA & Hurto a establecimiento comercial & Llave maestra      & NA & NA & NA & NA & NA & Sevilla        & \\#0407 & 4  & Institución de educación superior & Aranjuez   & Sin dato maquinaria y equipo & Maquinaria y equipo                             & Mercancía & -1 & NA & NA & NA\\\\\n",
       "\t 2003-01-01 17:20:00 & 1.0 & NA            & NA              & NA     & -1 & NA         & NA & NA & NA & NA & NA & NA & NA & NA & NA & Hurto a establecimiento comercial & NA                 & NA & NA & NA & NA & NA & Jesús Nazareno & \\#1003 & 10 & Oficina                           & Candelaria & Computador                   & Tecnología                                      & Mercancía & -1 & NA & NA & NA\\\\\n",
       "\t 2003-01-02 08:00:00 & 1.0 & 6.24812500000 & -75.56677200000 & Hombre & 22 & Soltero(a) & NA & NA & NA & NA & NA & NA & NA & NA & NA & Hurto a establecimiento comercial & Abuso de confianza & NA & NA & NA & NA & NA & La Candelaria  & \\#1019 & 10 & Droguería o farmacia              & Candelaria & Peso                         & Dinero, joyas, piedras preciosas y título valor & Mercancía & -1 & NA & NA & NA\\\\\n",
       "\t 2003-01-02 08:00:00 & 1.0 & 6.24812500000 & -75.56677200000 & Hombre & 22 & NA         & NA & NA & NA & NA & NA & NA & NA & NA & NA & Hurto a establecimiento comercial & NA                 & NA & NA & NA & NA & NA & La Candelaria  & \\#1019 & 10 & Droguería o farmacia              & NA         & Peso                         & Dinero, joyas, piedras preciosas y título valor & Mercancía & -1 & NA & NA & NA\\\\\n",
       "\\end{tabular}\n"
      ],
      "text/markdown": [
       "\n",
       "A data.frame: 6 × 35\n",
       "\n",
       "| seguridad.fecha_hecho &lt;fct&gt; | seguridad.cantidad &lt;fct&gt; | seguridad.latitud &lt;fct&gt; | seguridad.longitud &lt;fct&gt; | seguridad.sexo &lt;fct&gt; | seguridad.edad &lt;int&gt; | seguridad.estado_civil &lt;fct&gt; | seguridad.grupo_actor &lt;lgl&gt; | seguridad.actividad_delictiva &lt;lgl&gt; | seguridad.parentesco &lt;lgl&gt; | ... ... | seguridad.codigo_comuna &lt;fct&gt; | seguridad.lugar &lt;fct&gt; | seguridad.sede_receptora &lt;fct&gt; | seguridad.bien &lt;fct&gt; | seguridad.categoria_bien &lt;fct&gt; | seguridad.grupo_bien &lt;fct&gt; | seguridad.modelo &lt;int&gt; | seguridad.color &lt;fct&gt; | seguridad.permiso &lt;lgl&gt; | seguridad.unidad_medida &lt;lgl&gt; |\n",
       "|---|---|---|---|---|---|---|---|---|---|---|---|---|---|---|---|---|---|---|---|---|\n",
       "| 2003-01-01 17:00:00 | 1.0 | 6.26444900000 | -75.56737700000 | NA     | -1 | NA         | NA | NA | NA | ... | 4  | Institución de educación superior | NA         | Sin dato maquinaria y equipo | Maquinaria y equipo                             | Mercancía | -1 | NA | NA | NA |\n",
       "| 2003-01-01 17:20:00 | 1.0 | NA            | NA              | NA     | -1 | NA         | NA | NA | NA | ... | 10 | Oficina                           | NA         | Computador                   | Tecnología                                      | Mercancía | -1 | NA | NA | NA |\n",
       "| 2003-01-01 17:00:00 | 1.0 | 6.26444900000 | -75.56737700000 | NA     | -1 | NA         | NA | NA | NA | ... | 4  | Institución de educación superior | Aranjuez   | Sin dato maquinaria y equipo | Maquinaria y equipo                             | Mercancía | -1 | NA | NA | NA |\n",
       "| 2003-01-01 17:20:00 | 1.0 | NA            | NA              | NA     | -1 | NA         | NA | NA | NA | ... | 10 | Oficina                           | Candelaria | Computador                   | Tecnología                                      | Mercancía | -1 | NA | NA | NA |\n",
       "| 2003-01-02 08:00:00 | 1.0 | 6.24812500000 | -75.56677200000 | Hombre | 22 | Soltero(a) | NA | NA | NA | ... | 10 | Droguería o farmacia              | Candelaria | Peso                         | Dinero, joyas, piedras preciosas y título valor | Mercancía | -1 | NA | NA | NA |\n",
       "| 2003-01-02 08:00:00 | 1.0 | 6.24812500000 | -75.56677200000 | Hombre | 22 | NA         | NA | NA | NA | ... | 10 | Droguería o farmacia              | NA         | Peso                         | Dinero, joyas, piedras preciosas y título valor | Mercancía | -1 | NA | NA | NA |\n",
       "\n"
      ],
      "text/plain": [
       "  seguridad.fecha_hecho seguridad.cantidad seguridad.latitud seguridad.longitud\n",
       "1 2003-01-01 17:00:00   1.0                6.26444900000     -75.56737700000   \n",
       "2 2003-01-01 17:20:00   1.0                NA                NA                \n",
       "3 2003-01-01 17:00:00   1.0                6.26444900000     -75.56737700000   \n",
       "4 2003-01-01 17:20:00   1.0                NA                NA                \n",
       "5 2003-01-02 08:00:00   1.0                6.24812500000     -75.56677200000   \n",
       "6 2003-01-02 08:00:00   1.0                6.24812500000     -75.56677200000   \n",
       "  seguridad.sexo seguridad.edad seguridad.estado_civil seguridad.grupo_actor\n",
       "1 NA             -1             NA                     NA                   \n",
       "2 NA             -1             NA                     NA                   \n",
       "3 NA             -1             NA                     NA                   \n",
       "4 NA             -1             NA                     NA                   \n",
       "5 Hombre         22             Soltero(a)             NA                   \n",
       "6 Hombre         22             NA                     NA                   \n",
       "  seguridad.actividad_delictiva seguridad.parentesco ...\n",
       "1 NA                            NA                   ...\n",
       "2 NA                            NA                   ...\n",
       "3 NA                            NA                   ...\n",
       "4 NA                            NA                   ...\n",
       "5 NA                            NA                   ...\n",
       "6 NA                            NA                   ...\n",
       "  seguridad.codigo_comuna seguridad.lugar                  \n",
       "1 4                       Institución de educación superior\n",
       "2 10                      Oficina                          \n",
       "3 4                       Institución de educación superior\n",
       "4 10                      Oficina                          \n",
       "5 10                      Droguería o farmacia             \n",
       "6 10                      Droguería o farmacia             \n",
       "  seguridad.sede_receptora seguridad.bien              \n",
       "1 NA                       Sin dato maquinaria y equipo\n",
       "2 NA                       Computador                  \n",
       "3 Aranjuez                 Sin dato maquinaria y equipo\n",
       "4 Candelaria               Computador                  \n",
       "5 Candelaria               Peso                        \n",
       "6 NA                       Peso                        \n",
       "  seguridad.categoria_bien                        seguridad.grupo_bien\n",
       "1 Maquinaria y equipo                             Mercancía           \n",
       "2 Tecnología                                      Mercancía           \n",
       "3 Maquinaria y equipo                             Mercancía           \n",
       "4 Tecnología                                      Mercancía           \n",
       "5 Dinero, joyas, piedras preciosas y título valor Mercancía           \n",
       "6 Dinero, joyas, piedras preciosas y título valor Mercancía           \n",
       "  seguridad.modelo seguridad.color seguridad.permiso seguridad.unidad_medida\n",
       "1 -1               NA              NA                NA                     \n",
       "2 -1               NA              NA                NA                     \n",
       "3 -1               NA              NA                NA                     \n",
       "4 -1               NA              NA                NA                     \n",
       "5 -1               NA              NA                NA                     \n",
       "6 -1               NA              NA                NA                     "
      ]
     },
     "metadata": {},
     "output_type": "display_data"
    }
   ],
   "source": [
    "hurto <- read.csv2(\"../bases-de-datos/hurto_a_establecimiento_comercial.csv\",encoding = 'UTF-8',na.strings = c(\"Sin dato\",\"NaN\"))\n",
    "head(hurto)"
   ]
  },
  {
   "cell_type": "markdown",
   "metadata": {},
   "source": [
    "# Limpiar base"
   ]
  },
  {
   "cell_type": "code",
   "execution_count": 3,
   "metadata": {
    "scrolled": true
   },
   "outputs": [
    {
     "name": "stdout",
     "output_type": "stream",
     "text": [
      "'data.frame':\t28180 obs. of  35 variables:\n",
      " $ fecha_hecho        : Factor w/ 17569 levels \"2003-01-01 17:00:00\",..: 1 2 1 2 3 3 4 5 5 4 ...\n",
      " $ cantidad           : Factor w/ 1 level \"1.0\": 1 1 1 1 1 1 1 1 1 1 ...\n",
      " $ latitud            : Factor w/ 15110 levels \"4.61515619000\",..: 11804 NA 11804 NA 7620 7620 NA NA NA NA ...\n",
      " $ longitud           : Factor w/ 14804 levels \"-73.21930078000\",..: 4408 NA 4408 NA 4089 4089 NA NA NA NA ...\n",
      " $ sexo               : Factor w/ 2 levels \"Hombre\",\"Mujer\": NA NA NA NA 1 1 2 NA NA 2 ...\n",
      " $ edad               : int  -1 -1 -1 -1 22 22 41 -1 -1 41 ...\n",
      " $ estado_civil       : Factor w/ 5 levels \"Casado(a)\",\"Divorciado(a)\",..: NA NA NA NA 3 NA 1 NA NA NA ...\n",
      " $ grupo_actor        : logi  NA NA NA NA NA NA ...\n",
      " $ actividad_delictiva: logi  NA NA NA NA NA NA ...\n",
      " $ parentesco         : logi  NA NA NA NA NA NA ...\n",
      " $ ocupacion          : logi  NA NA NA NA NA NA ...\n",
      " $ discapacidad       : logi  NA NA NA NA NA NA ...\n",
      " $ grupo_especial     : logi  NA NA NA NA NA NA ...\n",
      " $ medio_transporte   : Factor w/ 9 levels \"Autobus\",\"Automóvil\",..: NA NA NA NA NA NA NA NA NA NA ...\n",
      " $ nivel_academico    : logi  NA NA NA NA NA NA ...\n",
      " $ testigo            : logi  NA NA NA NA NA NA ...\n",
      " $ conducta           : Factor w/ 1 level \"Hurto a establecimiento comercial\": 1 1 1 1 1 1 1 1 1 1 ...\n",
      " $ modalidad          : Factor w/ 27 levels \"Abuso de confianza\",..: NA NA 14 NA 1 NA 16 3 NA NA ...\n",
      " $ caracterizacion    : logi  NA NA NA NA NA NA ...\n",
      " $ conducta_especial  : Factor w/ 18 levels \"A bus de servicio público\",..: NA NA NA NA NA NA NA NA NA NA ...\n",
      " $ arma_medio         : Factor w/ 7 levels \"Arma cortopunzante\",..: NA NA NA NA NA NA NA 2 2 NA ...\n",
      " $ articulo_penal     : logi  NA NA NA NA NA NA ...\n",
      " $ categoria_penal    : logi  NA NA NA NA NA NA ...\n",
      " $ nombre_barrio      : Factor w/ 316 levels \"Aldea Pablo VI\",..: 281 129 281 129 137 137 258 200 200 258 ...\n",
      " $ codigo_barrio      : Factor w/ 317 levels \"#0101\",\"#0102\",..: 44 135 44 135 149 149 154 168 168 154 ...\n",
      " $ codigo_comuna      : Factor w/ 22 levels \"1\",\"10\",\"11\",..: 11 2 11 2 2 2 3 4 4 3 ...\n",
      " $ lugar              : Factor w/ 84 levels \"Aeropuerto\",\"Albergue\",..: 47 60 47 60 27 27 60 60 60 60 ...\n",
      " $ sede_receptora     : Factor w/ 24 levels \"Aeropuerto Olaya Herrera\",..: NA NA 2 8 8 NA 14 14 NA NA ...\n",
      " $ bien               : Factor w/ 385 levels \"Accesorios celular\",..: 324 114 324 114 254 254 114 254 254 114 ...\n",
      " $ categoria_bien     : Factor w/ 48 levels \"Accesorios del hogar\",..: 32 45 32 45 14 14 45 14 14 45 ...\n",
      " $ grupo_bien         : Factor w/ 4 levels \"Bélico\",\"Equipamiento\",..: 3 3 3 3 3 3 3 3 3 3 ...\n",
      " $ modelo             : int  -1 -1 -1 -1 -1 -1 -1 -1 -1 -1 ...\n",
      " $ color              : Factor w/ 15 levels \"Amarillo\",\"Azul\",..: NA NA NA NA NA NA NA NA NA NA ...\n",
      " $ permiso            : logi  NA NA NA NA NA NA ...\n",
      " $ unidad_medida      : logi  NA NA NA NA NA NA ...\n"
     ]
    },
    {
     "name": "stderr",
     "output_type": "stream",
     "text": [
      "Warning message:\n",
      "\"All formats failed to parse. No formats found.\""
     ]
    }
   ],
   "source": [
    "attach(hurto)\n",
    "nombres <- names(hurto)\n",
    "nombres <- str_replace_all(nombres, \"seguridad.\", \"\")\n",
    "names(hurto) <- nombres\n",
    "str(hurto)\n",
    "\n",
    "#Cambio de variables-----\n",
    "\n",
    "hurto$fecha_hecho <- dmy_hm(hurto$fecha_hecho)\n",
    "hurto$cantidad <- as.integer(hurto$cantidad)\n",
    "hurto$latitud <- as.numeric(hurto$latitud)\n",
    "hurto$longitud <- as.numeric(hurto$longitud)\n"
   ]
  },
  {
   "cell_type": "code",
   "execution_count": 4,
   "metadata": {
    "scrolled": true
   },
   "outputs": [
    {
     "name": "stderr",
     "output_type": "stream",
     "text": [
      "Warning message in plot.aggr(res, ...):\n",
      "\"not enough vertical space to display frequencies (too many combinations)\""
     ]
    },
    {
     "name": "stdout",
     "output_type": "stream",
     "text": [
      "\n",
      " Variables sorted by number of missings: \n",
      "            Variable       Count\n",
      "         fecha_hecho 1.000000000\n",
      "         grupo_actor 1.000000000\n",
      " actividad_delictiva 1.000000000\n",
      "          parentesco 1.000000000\n",
      "           ocupacion 1.000000000\n",
      "        discapacidad 1.000000000\n",
      "      grupo_especial 1.000000000\n",
      "     nivel_academico 1.000000000\n",
      "             testigo 1.000000000\n",
      "     caracterizacion 1.000000000\n",
      "      articulo_penal 1.000000000\n",
      "     categoria_penal 1.000000000\n",
      "             permiso 1.000000000\n",
      "       unidad_medida 1.000000000\n",
      "        estado_civil 0.919517388\n",
      "                sexo 0.901667850\n",
      "               color 0.890418737\n",
      "   conducta_especial 0.511284599\n",
      "    medio_transporte 0.239638041\n",
      "          arma_medio 0.144854507\n",
      "           modalidad 0.116997871\n",
      "             latitud 0.091589780\n",
      "            longitud 0.091589780\n",
      "      sede_receptora 0.068701207\n",
      "                bien 0.009829666\n",
      "      categoria_bien 0.009829666\n",
      "          grupo_bien 0.009829666\n",
      "               lugar 0.009226402\n",
      "       nombre_barrio 0.004932576\n",
      "            cantidad 0.000000000\n",
      "                edad 0.000000000\n",
      "            conducta 0.000000000\n",
      "       codigo_barrio 0.000000000\n",
      "       codigo_comuna 0.000000000\n",
      "              modelo 0.000000000\n"
     ]
    },
    {
     "data": {
      "image/png": "[encoded data removed]",
      "text/plain": [
       "plot without title"
      ]
     },
     "metadata": {},
     "output_type": "display_data"
    }
   ],
   "source": [
    "plo <- aggr(hurto,numbers=T,sortVar=T)\n",
    "mis <- plo$missings"
   ]
  },
  {
   "cell_type": "code",
   "execution_count": 5,
   "metadata": {
    "scrolled": true
   },
   "outputs": [
    {
     "data": {
      "text/html": [
       "'data.frame'"
      ],
      "text/latex": [
       "'data.frame'"
      ],
      "text/markdown": [
       "'data.frame'"
      ],
      "text/plain": [
       "[1] \"data.frame\""
      ]
     },
     "metadata": {},
     "output_type": "display_data"
    }
   ],
   "source": [
    "class(mis)"
   ]
  },
  {
   "cell_type": "code",
   "execution_count": 6,
   "metadata": {
    "scrolled": true
   },
   "outputs": [
    {
     "data": {
      "text/html": [
       "'data.frame'"
      ],
      "text/latex": [
       "'data.frame'"
      ],
      "text/markdown": [
       "'data.frame'"
      ],
      "text/plain": [
       "[1] \"data.frame\""
      ]
     },
     "metadata": {},
     "output_type": "display_data"
    },
    {
     "name": "stderr",
     "output_type": "stream",
     "text": [
      "Warning message in plot.aggr(res, ...):\n",
      "\"not enough vertical space to display frequencies (too many combinations)\""
     ]
    },
    {
     "name": "stdout",
     "output_type": "stream",
     "text": [
      "\n",
      " Variables sorted by number of missings: \n",
      "          Variable       Count\n",
      " conducta_especial 0.511284599\n",
      "  medio_transporte 0.239638041\n",
      "        arma_medio 0.144854507\n",
      "         modalidad 0.116997871\n",
      "           latitud 0.091589780\n",
      "          longitud 0.091589780\n",
      "    sede_receptora 0.068701207\n",
      "              bien 0.009829666\n",
      "    categoria_bien 0.009829666\n",
      "        grupo_bien 0.009829666\n",
      "             lugar 0.009226402\n",
      "     nombre_barrio 0.004932576\n",
      "          cantidad 0.000000000\n",
      "              edad 0.000000000\n",
      "          conducta 0.000000000\n",
      "     codigo_barrio 0.000000000\n",
      "     codigo_comuna 0.000000000\n",
      "            modelo 0.000000000\n"
     ]
    },
    {
     "data": {
      "image/png": "[encoded data removed]",
      "text/plain": [
       "plot without title"
      ]
     },
     "metadata": {},
     "output_type": "display_data"
    }
   ],
   "source": [
    "mis <- mis %>% mutate(p = mis$Count/sum(nrow(hurto)))\n",
    "b_variable <- mis %>% filter(p < 0.6) %>% select(Variable)\n",
    "hurto <- hurto[,b_variable$Variable]\n",
    "class(b_variable)\n",
    "plo <- aggr(hurto,numbers=T,sortVar=T)"
   ]
  },
  {
   "cell_type": "code",
   "execution_count": 7,
   "metadata": {},
   "outputs": [],
   "source": [
    "\n",
    "tipo <- sapply(hurto, class)\n",
    "tipo <- (as.data.frame(tipo))\n",
    "tipo <- cbind(tipo,variables = rownames(tipo))\n",
    "rownames(tipo) <- NULL\n",
    "index_entero <- which(tipo$tipo == 'integer')\n",
    "entero <- tipo[index_entero, 2]\n",
    "index_factor <- which(tipo$tipo == 'factor')\n",
    "factor <- tipo[index_factor, 2]\n",
    "index_numero <- which(tipo$tipo == 'numeric')\n",
    "numero <- tipo[index_numero, 2]\n"
   ]
  },
  {
   "cell_type": "code",
   "execution_count": 8,
   "metadata": {},
   "outputs": [
    {
     "name": "stderr",
     "output_type": "stream",
     "text": [
      "Warning message:\n",
      "\"Number of logged events: 1\""
     ]
    }
   ],
   "source": [
    "\n",
    "\n",
    "imputed_data <- mice(hurto[, names(hurto) %in% entero], seed=2018,print = F,m = 1)\n",
    "integer_complete<- mice::complete(imputed_data)\n",
    "\n",
    "\n",
    "\n",
    "\n"
   ]
  },
  {
   "cell_type": "code",
   "execution_count": 9,
   "metadata": {},
   "outputs": [
    {
     "data": {
      "text/html": [
       "<table>\n",
       "<caption>A data.frame: 6 × 3</caption>\n",
       "<thead>\n",
       "\t<tr><th scope=col>cantidad</th><th scope=col>edad</th><th scope=col>modelo</th></tr>\n",
       "\t<tr><th scope=col>&lt;int&gt;</th><th scope=col>&lt;int&gt;</th><th scope=col>&lt;int&gt;</th></tr>\n",
       "</thead>\n",
       "<tbody>\n",
       "\t<tr><td>1</td><td>-1</td><td>-1</td></tr>\n",
       "\t<tr><td>1</td><td>-1</td><td>-1</td></tr>\n",
       "\t<tr><td>1</td><td>-1</td><td>-1</td></tr>\n",
       "\t<tr><td>1</td><td>-1</td><td>-1</td></tr>\n",
       "\t<tr><td>1</td><td>22</td><td>-1</td></tr>\n",
       "\t<tr><td>1</td><td>22</td><td>-1</td></tr>\n",
       "</tbody>\n",
       "</table>\n"
      ],
      "text/latex": [
       "A data.frame: 6 × 3\n",
       "\\begin{tabular}{r|lll}\n",
       " cantidad & edad & modelo\\\\\n",
       " <int> & <int> & <int>\\\\\n",
       "\\hline\n",
       "\t 1 & -1 & -1\\\\\n",
       "\t 1 & -1 & -1\\\\\n",
       "\t 1 & -1 & -1\\\\\n",
       "\t 1 & -1 & -1\\\\\n",
       "\t 1 & 22 & -1\\\\\n",
       "\t 1 & 22 & -1\\\\\n",
       "\\end{tabular}\n"
      ],
      "text/markdown": [
       "\n",
       "A data.frame: 6 × 3\n",
       "\n",
       "| cantidad &lt;int&gt; | edad &lt;int&gt; | modelo &lt;int&gt; |\n",
       "|---|---|---|\n",
       "| 1 | -1 | -1 |\n",
       "| 1 | -1 | -1 |\n",
       "| 1 | -1 | -1 |\n",
       "| 1 | -1 | -1 |\n",
       "| 1 | 22 | -1 |\n",
       "| 1 | 22 | -1 |\n",
       "\n"
      ],
      "text/plain": [
       "  cantidad edad modelo\n",
       "1 1        -1   -1    \n",
       "2 1        -1   -1    \n",
       "3 1        -1   -1    \n",
       "4 1        -1   -1    \n",
       "5 1        22   -1    \n",
       "6 1        22   -1    "
      ]
     },
     "metadata": {},
     "output_type": "display_data"
    }
   ],
   "source": [
    "head(integer_complete)"
   ]
  },
  {
   "cell_type": "code",
   "execution_count": 10,
   "metadata": {},
   "outputs": [],
   "source": [
    "rand.imput <-function(x){\n",
    "    missing <- (is.na(x)) #vector booleano\n",
    "    n.missing <- sum(missing)#Numero de NA’s\n",
    "    x.obs <- x[!missing]#Datos no NA\n",
    "    imputed <- x\n",
    "    imputed[missing] <- sample(x.obs,n.missing,replace = T)\n",
    "    #Se extrae una muestra aleatoria conocida y se remplazan estos en los NA\n",
    "    return(imputed)\n",
    "}\n",
    "\n"
   ]
  },
  {
   "cell_type": "code",
   "execution_count": 11,
   "metadata": {},
   "outputs": [],
   "source": [
    "factor_complete <- sapply(hurto[,names(hurto) %in% factor], rand.imput)"
   ]
  },
  {
   "cell_type": "code",
   "execution_count": 12,
   "metadata": {},
   "outputs": [],
   "source": [
    "hurto_complete <- cbind(factor_complete, integer_complete, hurto$latitud, hurto$longitud)"
   ]
  },
  {
   "cell_type": "code",
   "execution_count": 13,
   "metadata": {
    "scrolled": false
   },
   "outputs": [
    {
     "data": {
      "text/html": [
       "<table>\n",
       "<caption>A data.frame: 6 × 18</caption>\n",
       "<thead>\n",
       "\t<tr><th scope=col>medio_transporte</th><th scope=col>conducta</th><th scope=col>modalidad</th><th scope=col>conducta_especial</th><th scope=col>arma_medio</th><th scope=col>nombre_barrio</th><th scope=col>codigo_barrio</th><th scope=col>codigo_comuna</th><th scope=col>lugar</th><th scope=col>sede_receptora</th><th scope=col>bien</th><th scope=col>categoria_bien</th><th scope=col>grupo_bien</th><th scope=col>cantidad</th><th scope=col>edad</th><th scope=col>modelo</th><th scope=col>hurto$latitud</th><th scope=col>hurto$longitud</th></tr>\n",
       "\t<tr><th scope=col>&lt;fct&gt;</th><th scope=col>&lt;fct&gt;</th><th scope=col>&lt;fct&gt;</th><th scope=col>&lt;fct&gt;</th><th scope=col>&lt;fct&gt;</th><th scope=col>&lt;fct&gt;</th><th scope=col>&lt;fct&gt;</th><th scope=col>&lt;fct&gt;</th><th scope=col>&lt;fct&gt;</th><th scope=col>&lt;fct&gt;</th><th scope=col>&lt;fct&gt;</th><th scope=col>&lt;fct&gt;</th><th scope=col>&lt;fct&gt;</th><th scope=col>&lt;int&gt;</th><th scope=col>&lt;int&gt;</th><th scope=col>&lt;int&gt;</th><th scope=col>&lt;dbl&gt;</th><th scope=col>&lt;dbl&gt;</th></tr>\n",
       "</thead>\n",
       "<tbody>\n",
       "\t<tr><td>Caminata</td><td>Hurto a establecimiento comercial</td><td>Mechero                   </td><td>No                   </td><td>No           </td><td>Sevilla       </td><td>#0407</td><td>4 </td><td>Institución de educación superior</td><td>Belén     </td><td>Sin dato maquinaria y equipo</td><td>Maquinaria y equipo                            </td><td>Mercancía</td><td>1</td><td>-1</td><td>-1</td><td>11804</td><td>4408</td></tr>\n",
       "\t<tr><td>Caminata</td><td>Hurto a establecimiento comercial</td><td>Llave maestra             </td><td>No                   </td><td>No           </td><td>Jesús Nazareno</td><td>#1003</td><td>10</td><td>Oficina                          </td><td>Poblado   </td><td>Computador                  </td><td>Tecnología                                     </td><td>Mercancía</td><td>1</td><td>-1</td><td>-1</td><td>   NA</td><td>  NA</td></tr>\n",
       "\t<tr><td>Caminata</td><td>Hurto a establecimiento comercial</td><td>Llave maestra             </td><td>No                   </td><td>No           </td><td>Sevilla       </td><td>#0407</td><td>4 </td><td>Institución de educación superior</td><td>Aranjuez  </td><td>Sin dato maquinaria y equipo</td><td>Maquinaria y equipo                            </td><td>Mercancía</td><td>1</td><td>-1</td><td>-1</td><td>11804</td><td>4408</td></tr>\n",
       "\t<tr><td>Caminata</td><td>Hurto a establecimiento comercial</td><td>Rompimiento de caja fuerte</td><td>A vehículo repartidor</td><td>No           </td><td>Jesús Nazareno</td><td>#1003</td><td>10</td><td>Oficina                          </td><td>Candelaria</td><td>Computador                  </td><td>Tecnología                                     </td><td>Mercancía</td><td>1</td><td>-1</td><td>-1</td><td>   NA</td><td>  NA</td></tr>\n",
       "\t<tr><td>Caminata</td><td>Hurto a establecimiento comercial</td><td>Abuso de confianza        </td><td>De celular           </td><td>Arma de fuego</td><td>La Candelaria </td><td>#1019</td><td>10</td><td>Droguería o farmacia             </td><td>Candelaria</td><td>Peso                        </td><td>Dinero, joyas, piedras preciosas y título valor</td><td>Mercancía</td><td>1</td><td>22</td><td>-1</td><td> 7620</td><td>4089</td></tr>\n",
       "\t<tr><td>Caminata</td><td>Hurto a establecimiento comercial</td><td>Atraco                    </td><td>A vehículo repartidor</td><td>Arma de fuego</td><td>La Candelaria </td><td>#1019</td><td>10</td><td>Droguería o farmacia             </td><td>Candelaria</td><td>Peso                        </td><td>Dinero, joyas, piedras preciosas y título valor</td><td>Mercancía</td><td>1</td><td>22</td><td>-1</td><td> 7620</td><td>4089</td></tr>\n",
       "</tbody>\n",
       "</table>\n"
      ],
      "text/latex": [
       "A data.frame: 6 × 18\n",
       "\\begin{tabular}{r|llllllllllllllllll}\n",
       " medio\\_transporte & conducta & modalidad & conducta\\_especial & arma\\_medio & nombre\\_barrio & codigo\\_barrio & codigo\\_comuna & lugar & sede\\_receptora & bien & categoria\\_bien & grupo\\_bien & cantidad & edad & modelo & hurto\\$latitud & hurto\\$longitud\\\\\n",
       " <fct> & <fct> & <fct> & <fct> & <fct> & <fct> & <fct> & <fct> & <fct> & <fct> & <fct> & <fct> & <fct> & <int> & <int> & <int> & <dbl> & <dbl>\\\\\n",
       "\\hline\n",
       "\t Caminata & Hurto a establecimiento comercial & Mechero                    & No                    & No            & Sevilla        & \\#0407 & 4  & Institución de educación superior & Belén      & Sin dato maquinaria y equipo & Maquinaria y equipo                             & Mercancía & 1 & -1 & -1 & 11804 & 4408\\\\\n",
       "\t Caminata & Hurto a establecimiento comercial & Llave maestra              & No                    & No            & Jesús Nazareno & \\#1003 & 10 & Oficina                           & Poblado    & Computador                   & Tecnología                                      & Mercancía & 1 & -1 & -1 &    NA &   NA\\\\\n",
       "\t Caminata & Hurto a establecimiento comercial & Llave maestra              & No                    & No            & Sevilla        & \\#0407 & 4  & Institución de educación superior & Aranjuez   & Sin dato maquinaria y equipo & Maquinaria y equipo                             & Mercancía & 1 & -1 & -1 & 11804 & 4408\\\\\n",
       "\t Caminata & Hurto a establecimiento comercial & Rompimiento de caja fuerte & A vehículo repartidor & No            & Jesús Nazareno & \\#1003 & 10 & Oficina                           & Candelaria & Computador                   & Tecnología                                      & Mercancía & 1 & -1 & -1 &    NA &   NA\\\\\n",
       "\t Caminata & Hurto a establecimiento comercial & Abuso de confianza         & De celular            & Arma de fuego & La Candelaria  & \\#1019 & 10 & Droguería o farmacia              & Candelaria & Peso                         & Dinero, joyas, piedras preciosas y título valor & Mercancía & 1 & 22 & -1 &  7620 & 4089\\\\\n",
       "\t Caminata & Hurto a establecimiento comercial & Atraco                     & A vehículo repartidor & Arma de fuego & La Candelaria  & \\#1019 & 10 & Droguería o farmacia              & Candelaria & Peso                         & Dinero, joyas, piedras preciosas y título valor & Mercancía & 1 & 22 & -1 &  7620 & 4089\\\\\n",
       "\\end{tabular}\n"
      ],
      "text/markdown": [
       "\n",
       "A data.frame: 6 × 18\n",
       "\n",
       "| medio_transporte &lt;fct&gt; | conducta &lt;fct&gt; | modalidad &lt;fct&gt; | conducta_especial &lt;fct&gt; | arma_medio &lt;fct&gt; | nombre_barrio &lt;fct&gt; | codigo_barrio &lt;fct&gt; | codigo_comuna &lt;fct&gt; | lugar &lt;fct&gt; | sede_receptora &lt;fct&gt; | bien &lt;fct&gt; | categoria_bien &lt;fct&gt; | grupo_bien &lt;fct&gt; | cantidad &lt;int&gt; | edad &lt;int&gt; | modelo &lt;int&gt; | hurto$latitud &lt;dbl&gt; | hurto$longitud &lt;dbl&gt; |\n",
       "|---|---|---|---|---|---|---|---|---|---|---|---|---|---|---|---|---|---|\n",
       "| Caminata | Hurto a establecimiento comercial | Mechero                    | No                    | No            | Sevilla        | #0407 | 4  | Institución de educación superior | Belén      | Sin dato maquinaria y equipo | Maquinaria y equipo                             | Mercancía | 1 | -1 | -1 | 11804 | 4408 |\n",
       "| Caminata | Hurto a establecimiento comercial | Llave maestra              | No                    | No            | Jesús Nazareno | #1003 | 10 | Oficina                           | Poblado    | Computador                   | Tecnología                                      | Mercancía | 1 | -1 | -1 |    NA |   NA |\n",
       "| Caminata | Hurto a establecimiento comercial | Llave maestra              | No                    | No            | Sevilla        | #0407 | 4  | Institución de educación superior | Aranjuez   | Sin dato maquinaria y equipo | Maquinaria y equipo                             | Mercancía | 1 | -1 | -1 | 11804 | 4408 |\n",
       "| Caminata | Hurto a establecimiento comercial | Rompimiento de caja fuerte | A vehículo repartidor | No            | Jesús Nazareno | #1003 | 10 | Oficina                           | Candelaria | Computador                   | Tecnología                                      | Mercancía | 1 | -1 | -1 |    NA |   NA |\n",
       "| Caminata | Hurto a establecimiento comercial | Abuso de confianza         | De celular            | Arma de fuego | La Candelaria  | #1019 | 10 | Droguería o farmacia              | Candelaria | Peso                         | Dinero, joyas, piedras preciosas y título valor | Mercancía | 1 | 22 | -1 |  7620 | 4089 |\n",
       "| Caminata | Hurto a establecimiento comercial | Atraco                     | A vehículo repartidor | Arma de fuego | La Candelaria  | #1019 | 10 | Droguería o farmacia              | Candelaria | Peso                         | Dinero, joyas, piedras preciosas y título valor | Mercancía | 1 | 22 | -1 |  7620 | 4089 |\n",
       "\n"
      ],
      "text/plain": [
       "  medio_transporte conducta                          modalidad                 \n",
       "1 Caminata         Hurto a establecimiento comercial Mechero                   \n",
       "2 Caminata         Hurto a establecimiento comercial Llave maestra             \n",
       "3 Caminata         Hurto a establecimiento comercial Llave maestra             \n",
       "4 Caminata         Hurto a establecimiento comercial Rompimiento de caja fuerte\n",
       "5 Caminata         Hurto a establecimiento comercial Abuso de confianza        \n",
       "6 Caminata         Hurto a establecimiento comercial Atraco                    \n",
       "  conducta_especial     arma_medio    nombre_barrio  codigo_barrio\n",
       "1 No                    No            Sevilla        #0407        \n",
       "2 No                    No            Jesús Nazareno #1003        \n",
       "3 No                    No            Sevilla        #0407        \n",
       "4 A vehículo repartidor No            Jesús Nazareno #1003        \n",
       "5 De celular            Arma de fuego La Candelaria  #1019        \n",
       "6 A vehículo repartidor Arma de fuego La Candelaria  #1019        \n",
       "  codigo_comuna lugar                             sede_receptora\n",
       "1 4             Institución de educación superior Belén         \n",
       "2 10            Oficina                           Poblado       \n",
       "3 4             Institución de educación superior Aranjuez      \n",
       "4 10            Oficina                           Candelaria    \n",
       "5 10            Droguería o farmacia              Candelaria    \n",
       "6 10            Droguería o farmacia              Candelaria    \n",
       "  bien                         categoria_bien                                 \n",
       "1 Sin dato maquinaria y equipo Maquinaria y equipo                            \n",
       "2 Computador                   Tecnología                                     \n",
       "3 Sin dato maquinaria y equipo Maquinaria y equipo                            \n",
       "4 Computador                   Tecnología                                     \n",
       "5 Peso                         Dinero, joyas, piedras preciosas y título valor\n",
       "6 Peso                         Dinero, joyas, piedras preciosas y título valor\n",
       "  grupo_bien cantidad edad modelo hurto$latitud hurto$longitud\n",
       "1 Mercancía  1        -1   -1     11804         4408          \n",
       "2 Mercancía  1        -1   -1        NA           NA          \n",
       "3 Mercancía  1        -1   -1     11804         4408          \n",
       "4 Mercancía  1        -1   -1        NA           NA          \n",
       "5 Mercancía  1        22   -1      7620         4089          \n",
       "6 Mercancía  1        22   -1      7620         4089          "
      ]
     },
     "metadata": {},
     "output_type": "display_data"
    }
   ],
   "source": [
    "head(hurto_complete)"
   ]
  },
  {
   "cell_type": "code",
   "execution_count": 14,
   "metadata": {
    "scrolled": true
   },
   "outputs": [
    {
     "name": "stdout",
     "output_type": "stream",
     "text": [
      "\n",
      " Variables sorted by number of missings: \n",
      "          Variable      Count\n",
      "     hurto$latitud 0.09158978\n",
      "    hurto$longitud 0.09158978\n",
      "  medio_transporte 0.00000000\n",
      "          conducta 0.00000000\n",
      "         modalidad 0.00000000\n",
      " conducta_especial 0.00000000\n",
      "        arma_medio 0.00000000\n",
      "     nombre_barrio 0.00000000\n",
      "     codigo_barrio 0.00000000\n",
      "     codigo_comuna 0.00000000\n",
      "             lugar 0.00000000\n",
      "    sede_receptora 0.00000000\n",
      "              bien 0.00000000\n",
      "    categoria_bien 0.00000000\n",
      "        grupo_bien 0.00000000\n",
      "          cantidad 0.00000000\n",
      "              edad 0.00000000\n",
      "            modelo 0.00000000\n"
     ]
    },
    {
     "data": {
      "image/png": "[encoded data removed]",
      "text/plain": [
       "plot without title"
      ]
     },
     "metadata": {},
     "output_type": "display_data"
    }
   ],
   "source": [
    "aggr(hurto_complete,numbers=T,sortVar=T)"
   ]
  },
  {
   "cell_type": "code",
   "execution_count": 15,
   "metadata": {},
   "outputs": [
    {
     "data": {
      "text/html": [
       "<ol class=list-inline>\n",
       "\t<li>'medio_transporte'</li>\n",
       "\t<li>'conducta'</li>\n",
       "\t<li>'modalidad'</li>\n",
       "\t<li>'conducta_especial'</li>\n",
       "\t<li>'arma_medio'</li>\n",
       "\t<li>'nombre_barrio'</li>\n",
       "\t<li>'codigo_barrio'</li>\n",
       "\t<li>'codigo_comuna'</li>\n",
       "\t<li>'lugar'</li>\n",
       "\t<li>'sede_receptora'</li>\n",
       "\t<li>'bien'</li>\n",
       "\t<li>'categoria_bien'</li>\n",
       "\t<li>'grupo_bien'</li>\n",
       "\t<li>'cantidad'</li>\n",
       "\t<li>'edad'</li>\n",
       "\t<li>'modelo'</li>\n",
       "\t<li>'hurto$latitud'</li>\n",
       "\t<li>'hurto$longitud'</li>\n",
       "</ol>\n"
      ],
      "text/latex": [
       "\\begin{enumerate*}\n",
       "\\item 'medio\\_transporte'\n",
       "\\item 'conducta'\n",
       "\\item 'modalidad'\n",
       "\\item 'conducta\\_especial'\n",
       "\\item 'arma\\_medio'\n",
       "\\item 'nombre\\_barrio'\n",
       "\\item 'codigo\\_barrio'\n",
       "\\item 'codigo\\_comuna'\n",
       "\\item 'lugar'\n",
       "\\item 'sede\\_receptora'\n",
       "\\item 'bien'\n",
       "\\item 'categoria\\_bien'\n",
       "\\item 'grupo\\_bien'\n",
       "\\item 'cantidad'\n",
       "\\item 'edad'\n",
       "\\item 'modelo'\n",
       "\\item 'hurto\\$latitud'\n",
       "\\item 'hurto\\$longitud'\n",
       "\\end{enumerate*}\n"
      ],
      "text/markdown": [
       "1. 'medio_transporte'\n",
       "2. 'conducta'\n",
       "3. 'modalidad'\n",
       "4. 'conducta_especial'\n",
       "5. 'arma_medio'\n",
       "6. 'nombre_barrio'\n",
       "7. 'codigo_barrio'\n",
       "8. 'codigo_comuna'\n",
       "9. 'lugar'\n",
       "10. 'sede_receptora'\n",
       "11. 'bien'\n",
       "12. 'categoria_bien'\n",
       "13. 'grupo_bien'\n",
       "14. 'cantidad'\n",
       "15. 'edad'\n",
       "16. 'modelo'\n",
       "17. 'hurto$latitud'\n",
       "18. 'hurto$longitud'\n",
       "\n",
       "\n"
      ],
      "text/plain": [
       " [1] \"medio_transporte\"  \"conducta\"          \"modalidad\"        \n",
       " [4] \"conducta_especial\" \"arma_medio\"        \"nombre_barrio\"    \n",
       " [7] \"codigo_barrio\"     \"codigo_comuna\"     \"lugar\"            \n",
       "[10] \"sede_receptora\"    \"bien\"              \"categoria_bien\"   \n",
       "[13] \"grupo_bien\"        \"cantidad\"          \"edad\"             \n",
       "[16] \"modelo\"            \"hurto$latitud\"     \"hurto$longitud\"   "
      ]
     },
     "metadata": {},
     "output_type": "display_data"
    }
   ],
   "source": [
    "names(hurto_complete)"
   ]
  },
  {
   "cell_type": "code",
   "execution_count": null,
   "metadata": {},
   "outputs": [],
   "source": []
  }
 ],
 "metadata": {
  "kernelspec": {
   "display_name": "R",
   "language": "R",
   "name": "ir"
  },
  "language_info": {
   "codemirror_mode": "r",
   "file_extension": ".r",
   "mimetype": "text/x-r-source",
   "name": "R",
   "pygments_lexer": "r",
   "version": "3.6.0"
  }
 },
 "nbformat": 4,
 "nbformat_minor": 2
}
